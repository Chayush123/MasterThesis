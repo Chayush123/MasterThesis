{
 "cells": [
  {
   "cell_type": "code",
   "execution_count": 3,
   "id": "1eac4eba",
   "metadata": {},
   "outputs": [],
   "source": [
    "import numpy as np\n",
    "import matplotlib.pyplot as plt\n",
    "from mpl_toolkits.mplot3d import Axes3D\n",
    "from scipy import integrate\n",
    "import numdifftools as nd\n",
    "# np.tensordot\n",
    "# np.cross\n",
    "# np.dot"
   ]
  },
  {
   "cell_type": "code",
   "execution_count": 9,
   "id": "dc310ac5",
   "metadata": {},
   "outputs": [],
   "source": [
    "def vt(X: np.ndarray) -> np.ndarray:\n",
    "    \"\"\"Returns the tangent and azimutal unit vectors at point X on the unit sphere.\n",
    "    Args:\n",
    "        X (np.ndarray): A 3D point on the unit sphere.\n",
    "        Returns:\n",
    "        [-y/(x^2+y^2)^0.5, x/(x^2+y^2)^0.5, 0]\"\"\"\n",
    "    s = np.sqrt(X[0]**2 + X[1]**2)\n",
    "    return np.array([-X[1]/s, X[0]/s, 0])\n",
    "\n",
    "def vr(X: np.ndarray) -> np.ndarray:\n",
    "    \"\"\"Returns the radial unit vector at point X on the unit sphere.\n",
    "    Args:\n",
    "        X (np.ndarray): A 3D point on the unit sphere.\n",
    "        Returns:\n",
    "        [X[0], X[1], X[2]]/(np.sqrt(X[0]**2 + X[1]**2 + X[2]**2))\"\"\"\n",
    "    s = np.sqrt(X[0]**2 + X[1]**2+ X[2]**2)\n",
    "    return np.array([X[0], X[1], X[2]])/s\n",
    "\n",
    "def th(X: np.ndarray):\n",
    "    \"\"\"Returns the polar angle theta at point X on the unit sphere theta.\"\"\"\n",
    "    return np.arccos(X[2]/np.sqrt(X[0]**2 + X[1]**2 + X[2]**2))\n",
    "\n",
    "def ncone(X: np.ndarray, w) -> np.ndarray:\n",
    "    \"\"\"Returns the director n on the boundary of the cone at point X on the unit sphere.\n",
    "    Args:\n",
    "        X (np.ndarray): A 3D point on the unit sphere.\n",
    "        thetacone (float): The half-angle of the cone in radians.\n",
    "        w (int): The winding number of the director along the boundary on the cone.\n",
    "        Returns:\n",
    "        n = cos(w*phi)*vt + sin(w*phi)*vr\n",
    "        where phi = arctan2(y,x)\"\"\"\n",
    "\n",
    "    return np.cos(w * np.arctan2(X[1], X[0])) * vt(X) + np.sin(w * np.arctan2(X[1], X[0])) * vr(X)\n",
    "\n",
    "def nhat(X, thetacone: float, w) -> np.ndarray:\n",
    "    \"\"\"Returns the director n at point X on the unit sphere.\n",
    "    Args:\n",
    "        X (np.ndarray): A 3D point on the unit sphere.\n",
    "        thetacone (float): The half-angle of the cone in radians.\n",
    "        w (int): The winding number of the director along the boundary on the cone.\n",
    "        Returns:\n",
    "        n = \"\"\"\n",
    "    n = th(X) * ncone(X, w) + (thetacone - th(X)) * np.array([0, 0, 1])\n",
    "    return n / np.linalg.norm(n)\n",
    "\n"
   ]
  },
  {
   "cell_type": "code",
   "execution_count": null,
   "id": "d0305e6f",
   "metadata": {},
   "outputs": [],
   "source": [
    "def integrand(n: np.ndarray) -> np.ndarray:\n",
    " \n",
    " np.einsum('ijk,j,k->i')  \n"
   ]
  }
 ],
 "metadata": {
  "kernelspec": {
   "display_name": "base",
   "language": "python",
   "name": "python3"
  },
  "language_info": {
   "codemirror_mode": {
    "name": "ipython",
    "version": 3
   },
   "file_extension": ".py",
   "mimetype": "text/x-python",
   "name": "python",
   "nbconvert_exporter": "python",
   "pygments_lexer": "ipython3",
   "version": "3.9.7"
  }
 },
 "nbformat": 4,
 "nbformat_minor": 5
}
