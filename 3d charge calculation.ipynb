{
 "cells": [
  {
   "cell_type": "code",
   "execution_count": 2,
   "id": "1eac4eba",
   "metadata": {},
   "outputs": [],
   "source": [
    "import numpy as np\n",
    "import matplotlib.pyplot as plt\n",
    "from mpl_toolkits.mplot3d import Axes3D\n",
    "from scipy import integrate\n",
    "from scipy.optimize import approx_fprime\n",
    "from mpl_toolkits.mplot3d import Axes3D\n",
    "\n",
    "# import numdifftools as nd\n",
    "# np.tensordot\n",
    "# np.cross\n",
    "# np.dot"
   ]
  },
  {
   "cell_type": "code",
   "execution_count": 43,
   "id": "dc310ac5",
   "metadata": {},
   "outputs": [],
   "source": [
    "def vt(X: np.ndarray) -> np.ndarray:\n",
    "    \"\"\"Returns the tangent and azimutal unit vectors at point X on the unit sphere.\n",
    "    Args:\n",
    "        X (np.ndarray): A 3D point on the unit sphere.\n",
    "        Returns:\n",
    "        [-y/(x^2+y^2)^0.5, x/(x^2+y^2)^0.5, 0]\"\"\"\n",
    "    s = np.sqrt(X[0]**2 + X[1]**2)\n",
    "    return np.array([-X[1]/s, X[0]/s, 0])\n",
    "\n",
    "def vr(X: np.ndarray) -> np.ndarray:\n",
    "    \"\"\"Returns the radial unit vector at point X on the unit sphere.\n",
    "    Args:\n",
    "        X (np.ndarray): A 3D point on the unit sphere.\n",
    "        Returns:\n",
    "        [X[0], X[1], X[2]]/(np.sqrt(X[0]**2 + X[1]**2 + X[2]**2))\"\"\"\n",
    "    s = np.sqrt(X[0]**2 + X[1]**2+ X[2]**2)\n",
    "    return np.array([X[0], X[1], X[2]])/s\n",
    "\n",
    "def th(X: np.ndarray):\n",
    "    \"\"\"Returns the polar angle theta at point X on the unit sphere theta.\"\"\"\n",
    "    return np.arccos(X[2]/np.sqrt(X[0]**2 + X[1]**2 + X[2]**2))\n",
    "\n",
    "def ncone(X: np.ndarray, w) -> np.ndarray:\n",
    "    \"\"\"Returns the director n on the boundary of the cone at point X on the unit sphere.\n",
    "    Args:\n",
    "        X (np.ndarray): A 3D point on the unit sphere.\n",
    "        thetacone (float): The half-angle of the cone in radians.\n",
    "        w (int): The winding number of the director along the boundary on the cone.\n",
    "        Returns:\n",
    "        n = cos(w*phi)*vt + sin(w*phi)*vr\n",
    "        where phi = arctan2(y,x)\n",
    "        \n",
    "        if x=0 then we separate fo different cases\"\"\"\n",
    "    if X[0] == 0 and X[1] == 0:\n",
    "        return np.zeros(3)\n",
    "    elif X[0] == 0 and X[1] > 0:   \n",
    "        return np.cos(w * np.pi / 2) * vt(X) + np.sin(w * np.pi / 2) * vr(X)\n",
    "    elif X[0] == 0 and X[1] < 0:\n",
    "        return np.cos(w * np.pi / 2) * vt(X) - np.sin(w * np.pi / 2) * vr(X)        \n",
    "    else:\n",
    "        return np.cos(w * np.arctan2(X[1], X[0])) * vt(X) + np.sin(w * np.arctan2(X[1], X[0])) * vr(X)\n",
    "    \n",
    "\n",
    "\n",
    "def nhat(X, thetacone: float, w) -> np.ndarray:\n",
    "    \"\"\"Returns the director n at point X on the unit sphere.\n",
    "    Args:\n",
    "        X (np.ndarray): A 3D point on the unit sphere.\n",
    "        thetacone (float): The half-angle of the cone in radians.\n",
    "        w (int): The winding number of the director along the boundary on the cone.\n",
    "        Returns:\n",
    "        n = \"\"\"\n",
    "    n = th(X) * ncone(X, w) + (thetacone - th(X)) * np.array([0, 0, 1])\n",
    "    return n / np.linalg.norm(n)\n"
   ]
  },
  {
   "cell_type": "code",
   "execution_count": 9,
   "id": "3886e374",
   "metadata": {},
   "outputs": [],
   "source": [
    "def epsilon3d():\n",
    "    eps = np.zeros((3,3,3))\n",
    "    eps[0,1,2]=eps[1,2,0]=eps[2,0,1]=1\n",
    "    eps[0,2,1]=eps[1,0,2]=eps[2,1,0]=-1\n",
    "    return eps"
   ]
  },
  {
   "cell_type": "code",
   "execution_count": 47,
   "id": "d0305e6f",
   "metadata": {},
   "outputs": [],
   "source": [
    "def integrand(point, angle, winding) -> np.ndarray:\n",
    "    \"\"\"epsilon_ijk epsilon_pqr n_q,i n_r,k n_p at point on the unit sphere.\n",
    "    Args:\n",
    "        point (np.ndarray): A 3D point on the unit sphere.\n",
    "        angle (float): The half-angle of the cone in radians.\n",
    "        winding (int): The winding number of the director along the boundary on the cone.\n",
    "        Returns:\n",
    "        A 3D vector representing the integrand at the given point.\"\"\"\n",
    "    grad_nx = approx_fprime(point, lambda p: nhat(p, angle, winding)[0], epsilon=1e-8)  # x-component - 3d vector\n",
    "    grad_ny = approx_fprime(point, lambda p: nhat(p, angle, winding)[1], epsilon=1e-8)  # y-component - 3d vector\n",
    "    grad_nz = approx_fprime(point, lambda p: nhat(p, angle, winding)[2], epsilon=1e-8)  # z-component - 3d vector\n",
    "\n",
    "    n = nhat(point, angle, winding)  # 3d vector\n",
    "    dn = np.stack((grad_nx, grad_ny, grad_nz), axis=0)  # 3x3 matrix\n",
    "    r = np.array([point[0], point[1], point[2]])\n",
    "\n",
    "    return np.round(np.einsum('ijk,pqr,qj,rk,p,i', epsilon3d(), epsilon3d(), dn, dn, n, r) * th(point), decimals=8) # 3d vector\n"
   ]
  },
  {
   "cell_type": "code",
   "execution_count": 48,
   "id": "fe4aee72",
   "metadata": {},
   "outputs": [
    {
     "data": {
      "text/plain": [
       "2e-08"
      ]
     },
     "execution_count": 48,
     "metadata": {},
     "output_type": "execute_result"
    }
   ],
   "source": [
    "integrand(np.array([0,1,0]), np.pi/4, 1)"
   ]
  },
  {
   "cell_type": "code",
   "execution_count": null,
   "id": "91c610f9",
   "metadata": {},
   "outputs": [],
   "source": [
    "\n"
   ]
  },
  {
   "cell_type": "code",
   "execution_count": null,
   "id": "d60e889a",
   "metadata": {},
   "outputs": [],
   "source": [
    "result, error = integrate.dblquad(integrand_with_jacobian, \n",
    "                                  phi_min, phi_max, \n",
    "                                  theta_min_func, theta_max_func)"
   ]
  }
 ],
 "metadata": {
  "kernelspec": {
   "display_name": "base",
   "language": "python",
   "name": "python3"
  },
  "language_info": {
   "codemirror_mode": {
    "name": "ipython",
    "version": 3
   },
   "file_extension": ".py",
   "mimetype": "text/x-python",
   "name": "python",
   "nbconvert_exporter": "python",
   "pygments_lexer": "ipython3",
   "version": "3.9.7"
  }
 },
 "nbformat": 4,
 "nbformat_minor": 5
}
