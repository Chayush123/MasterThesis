{
 "cells": [
  {
   "cell_type": "code",
   "execution_count": 45,
   "id": "1eac4eba",
   "metadata": {},
   "outputs": [],
   "source": [
    "import numpy as np\n",
    "import matplotlib.pyplot as plt\n",
    "\n",
    "from mpl_toolkits.mplot3d import Axes3D\n",
    "from scipy.integrate import dblquad\n",
    "from scipy.integrate import quad\n",
    "\n",
    "from scipy.optimize import approx_fprime\n",
    "from mpl_toolkits.mplot3d import Axes3D\n",
    "from sympy import *\n",
    "\n",
    "# np.tensordot\n",
    "# np.cross\n",
    "# np.dot"
   ]
  },
  {
   "cell_type": "code",
   "execution_count": 3,
   "id": "dc310ac5",
   "metadata": {},
   "outputs": [],
   "source": [
    "def vt(X: np.ndarray) -> np.ndarray:\n",
    "    \"\"\"Returns the tangent and azimutal unit vectors at point X on the unit sphere.\n",
    "    Args:\n",
    "        X (np.ndarray): A 3D point on the unit sphere.\n",
    "        Returns:\n",
    "        [-y/(x^2+y^2)^0.5, x/(x^2+y^2)^0.5, 0]\"\"\"\n",
    "    s = np.sqrt(X[0]**2 + X[1]**2)\n",
    "    return np.array([-X[1]/s, X[0]/s, 0])\n",
    "\n",
    "def vr(X: np.ndarray) -> np.ndarray:\n",
    "    \"\"\"Returns the radial unit vector at point X on the unit sphere.\n",
    "    Args:\n",
    "        X (np.ndarray): A 3D point on the unit sphere.\n",
    "        Returns:\n",
    "        [X[0], X[1], X[2]]/(np.sqrt(X[0]**2 + X[1]**2 + X[2]**2))\"\"\"\n",
    "    s = np.sqrt(X[0]**2 + X[1]**2+ X[2]**2)\n",
    "    return np.array([X[0], X[1], X[2]])/s\n",
    "\n",
    "def th(X: np.ndarray):\n",
    "    \"\"\"Returns the polar angle theta at point X on the unit sphere theta.\"\"\"\n",
    "    return np.arccos(X[2]/np.sqrt(X[0]**2 + X[1]**2 + X[2]**2))\n",
    "\n",
    "def ncone(X: np.ndarray, w) -> np.ndarray:\n",
    "    \"\"\"Returns the director n on the boundary of the cone at point X on the unit sphere.\n",
    "    Args:\n",
    "        X (np.ndarray): A 3D point on the unit sphere.\n",
    "        thetacone (float): The half-angle of the cone in radians.\n",
    "        w (int): The winding number of the director along the boundary on the cone.\n",
    "        Returns:\n",
    "        n = cos(w*phi)*vt + sin(w*phi)*vr\n",
    "        where phi = arctan2(y,x)\n",
    "        \n",
    "        if x=0 then we separate fo different cases\"\"\"\n",
    "    if X[0] == 0 and X[1] == 0:\n",
    "        return np.zeros(3)\n",
    "    elif X[0] == 0 and X[1] > 0:   \n",
    "        return np.cos(w * np.pi / 2) * vt(X) + np.sin(w * np.pi / 2) * vr(X)\n",
    "    elif X[0] == 0 and X[1] < 0:\n",
    "        return np.cos(w * np.pi / 2) * vt(X) - np.sin(w * np.pi / 2) * vr(X)        \n",
    "    else:\n",
    "        return np.cos(w * np.arctan2(X[1], X[0])) * vt(X) + np.sin(w * np.arctan2(X[1], X[0])) * vr(X)\n",
    "    \n",
    "\n",
    "\n",
    "def nhat(X, thetacone: float, w) -> np.ndarray:\n",
    "    \"\"\"Returns the director n at point X on the unit sphere.\n",
    "    Args:\n",
    "        X (np.ndarray): A 3D point on the unit sphere.\n",
    "        thetacone (float): The half-angle of the cone in radians.\n",
    "        w (int): The winding number of the director along the boundary on the cone.\n",
    "        Returns:\n",
    "        n = \"\"\"\n",
    "    n = th(X) * ncone(X, w) + (thetacone - th(X)) * np.array([0, 0, 1])\n",
    "    return n / np.linalg.norm(n)\n"
   ]
  },
  {
   "cell_type": "code",
   "execution_count": 4,
   "id": "3886e374",
   "metadata": {},
   "outputs": [],
   "source": [
    "def epsilon3d():\n",
    "    eps = np.zeros((3,3,3))\n",
    "    eps[0,1,2]=eps[1,2,0]=eps[2,0,1]=1\n",
    "    eps[0,2,1]=eps[1,0,2]=eps[2,1,0]=-1\n",
    "    return eps"
   ]
  },
  {
   "cell_type": "code",
   "execution_count": 5,
   "id": "d0305e6f",
   "metadata": {},
   "outputs": [],
   "source": [
    "def integrand(point, angle, winding) -> np.ndarray:\n",
    "    \"\"\"epsilon_ijk epsilon_pqr n_q,i n_r,k n_p at point on the unit sphere.\n",
    "    Args:\n",
    "        point (np.ndarray): A 3D point on the unit sphere.\n",
    "        angle (float): The half-angle of the cone in radians.\n",
    "        winding (int): The winding number of the director along the boundary on the cone.\n",
    "        Returns:\n",
    "        A scalar representing the integrand at the given point.\"\"\"\n",
    "    grad_nx = approx_fprime(point, lambda p: nhat(p, angle, winding)[0], epsilon=1e-8)  # x-component - 3d vector\n",
    "    grad_ny = approx_fprime(point, lambda p: nhat(p, angle, winding)[1], epsilon=1e-8)  # y-component - 3d vector\n",
    "    grad_nz = approx_fprime(point, lambda p: nhat(p, angle, winding)[2], epsilon=1e-8)  # z-component - 3d vector\n",
    "\n",
    "    n = nhat(point, angle, winding)  # 3d vector\n",
    "    dn = np.stack((grad_nx, grad_ny, grad_nz), axis=0)  # 3x3 matrix\n",
    "    r = np.array([point[0], point[1], point[2]])\n",
    "\n",
    "    return np.round(0.5 * np.einsum('ijk,pqr,qj,rk,p,i', epsilon3d(), epsilon3d(), dn, dn, n, r) * th(point), decimals=8) # scalar: epsilon_ijk epsilon_pqr n_q,i n_r,k n_p\n"
   ]
  },
  {
   "cell_type": "code",
   "execution_count": 60,
   "id": "87da0bc2",
   "metadata": {},
   "outputs": [
    {
     "name": "stdout",
     "output_type": "stream",
     "text": [
      "1.0 \\partial_{x}{n_{x}} \\partial_{y}{n_{y}} n_{z} z - 1.0 \\partial_{x}{n_{x}} \\partial_{y}{n_{z}} n_{y} z - 1.0 \\partial_{x}{n_{x}} \\partial_{z}{n_{y}} n_{z} y + 1.0 \\partial_{x}{n_{x}} \\partial_{z}{n_{z}} n_{y} y - 1.0 \\partial_{x}{n_{y}} \\partial_{y}{n_{x}} n_{z} z + 1.0 \\partial_{x}{n_{y}} \\partial_{y}{n_{z}} n_{x} z + 1.0 \\partial_{x}{n_{y}} \\partial_{z}{n_{x}} n_{z} y - 1.0 \\partial_{x}{n_{y}} \\partial_{z}{n_{z}} n_{x} y + 1.0 \\partial_{x}{n_{z}} \\partial_{y}{n_{x}} n_{y} z - 1.0 \\partial_{x}{n_{z}} \\partial_{y}{n_{y}} n_{x} z - 1.0 \\partial_{x}{n_{z}} \\partial_{z}{n_{x}} n_{y} y + 1.0 \\partial_{x}{n_{z}} \\partial_{z}{n_{y}} n_{x} y + 1.0 \\partial_{y}{n_{x}} \\partial_{z}{n_{y}} n_{z} x - 1.0 \\partial_{y}{n_{x}} \\partial_{z}{n_{z}} n_{y} x - 1.0 \\partial_{y}{n_{y}} \\partial_{z}{n_{x}} n_{z} x + 1.0 \\partial_{y}{n_{y}} \\partial_{z}{n_{z}} n_{x} x + 1.0 \\partial_{y}{n_{z}} \\partial_{z}{n_{x}} n_{y} x - 1.0 \\partial_{y}{n_{z}} \\partial_{z}{n_{y}} n_{x} x\n"
     ]
    }
   ],
   "source": [
    "from sympy import latex\n",
    "\n",
    "x, y, z , a, b, c, d, e, f, g, h, i, j, k, l = symbols('x y z a b c d e f g h i j k l')\n",
    "nx_x = symbols(r'\\partial_{x}{n_{x}}')\n",
    "nx_y = symbols(r'\\partial_{y}{n_{x}}')\n",
    "nx_z = symbols(r'\\partial_{z}{n_{x}}')\n",
    "ny_x = symbols(r'\\partial_{x}{n_{y}}')\n",
    "ny_y = symbols(r'\\partial_{y}{n_{y}}')\n",
    "ny_z = symbols(r'\\partial_{z}{n_{y}}')\n",
    "nz_x = symbols(r'\\partial_{x}{n_{z}}')\n",
    "nz_y = symbols(r'\\partial_{y}{n_{z}}')\n",
    "nz_z = symbols(r'\\partial_{z}{n_{z}}')\n",
    "r = [x,y,z]\n",
    "r\n",
    "nx = symbols(r'n_{x}')\n",
    "ny = symbols(r'n_{y}')\n",
    "nz = symbols(r'n_{z}')\n",
    "n = [nx, ny, nz] \n",
    "n\n",
    "dn = Matrix([[nx_x, nx_y, nx_z],\n",
    "             [ny_x, ny_y, ny_z],\n",
    "             [nz_x, nz_y, nz_z]])\n",
    "\n",
    "\n",
    "\n",
    "I = np.einsum('ijk,pqr,qj,rk,p,i', epsilon3d(), epsilon3d(), dn, dn, n, r)/2\n",
    "latex_expr = latex(I)\n",
    "print(latex_expr)"
   ]
  },
  {
   "cell_type": "code",
   "execution_count": 62,
   "id": "fe4aee72",
   "metadata": {},
   "outputs": [
    {
     "data": {
      "text/plain": [
       "1e-08"
      ]
     },
     "execution_count": 62,
     "metadata": {},
     "output_type": "execute_result"
    }
   ],
   "source": [
    "integrand(np.array([0,1,0]), np.pi/4, 1)"
   ]
  },
  {
   "cell_type": "code",
   "execution_count": 6,
   "id": "6c5dd27e",
   "metadata": {},
   "outputs": [],
   "source": [
    "# Implementation: Convert your integrand to spherical coordinates\n",
    "\n",
    "def spherical_to_cartesian(theta, phi, r=1.0):\n",
    "    \"\"\"Convert spherical coordinates to Cartesian\"\"\"\n",
    "    x = r * np.sin(theta) * np.cos(phi)\n",
    "    y = r * np.sin(theta) * np.sin(phi)  \n",
    "    z = r * np.cos(theta)\n",
    "    return np.array([x, y, z])\n",
    "\n",
    "def integrand_spherical(theta, phi, angle=np.pi/4, winding=1):\n",
    "    \"\"\"\n",
    "    Your integrand function adapted for spherical coordinates\n",
    "    \n",
    "    This function:\n",
    "    1. Converts (θ,φ) to Cartesian point on unit sphere\n",
    "    2. Calls your existing integrand function\n",
    "    3. Returns scalar value ready for integration\n",
    "    \"\"\"\n",
    "    # Convert to Cartesian coordinates\n",
    "    point_cartesian = spherical_to_cartesian(theta, phi)\n",
    "    \n",
    "    # Call your existing integrand function\n",
    "    result = integrand(point_cartesian, angle, winding)\n",
    "    \n",
    "    return result"
   ]
  },
  {
   "cell_type": "code",
   "execution_count": null,
   "id": "2b904667",
   "metadata": {},
   "outputs": [],
   "source": [
    "# Method 1: Using scipy.integrate.dblquad (RECOMMENDED)\n",
    "\n",
    "def charge(angle=np.pi/2, winding=0):\n",
    "    \"\"\"\n",
    "    Compute surface integral using scipy.integrate.dblquad\n",
    "    \n",
    "    ∫∫_sphere integrand(θ,φ) sin(θ) dθ dφ\n",
    "    \"\"\"\n",
    "    \n",
    "    def integrand_with_jacobian(theta, phi):\n",
    "        \"\"\"Include the sin(θ) Jacobian factor\"\"\"\n",
    "        return integrand_spherical(theta, phi, angle, winding) * np.sin(theta)\n",
    "    \n",
    "    \"\"\" Integrate over the cap: θ ∈ [0,angle], φ ∈ [0,2π] \"\"\"\n",
    "    result, error = dblquad(\n",
    "        integrand_with_jacobian,\n",
    "        0, 2*np.pi,          # φ limits\n",
    "        lambda phi: 10 ** -8,       # θ lower bound (constant)\n",
    "        lambda phi: angle    # θ upper bound (constant)\n",
    "    )\n",
    "\n",
    "    return np.round(result / (4 * np.pi), 3), np.round(error / (4 * np.pi), 2)\n",
    "\n"
   ]
  },
  {
   "cell_type": "code",
   "execution_count": 43,
   "id": "0a9474f3",
   "metadata": {},
   "outputs": [
    {
     "data": {
      "text/plain": [
       "0.01"
      ]
     },
     "execution_count": 43,
     "metadata": {},
     "output_type": "execute_result"
    }
   ],
   "source": [
    "q, err =  charge(np.pi/100)\n",
    "q"
   ]
  },
  {
   "cell_type": "code",
   "execution_count": null,
   "id": "e868def7",
   "metadata": {},
   "outputs": [],
   "source": []
  }
 ],
 "metadata": {
  "kernelspec": {
   "display_name": "py312",
   "language": "python",
   "name": "python3"
  },
  "language_info": {
   "codemirror_mode": {
    "name": "ipython",
    "version": 3
   },
   "file_extension": ".py",
   "mimetype": "text/x-python",
   "name": "python",
   "nbconvert_exporter": "python",
   "pygments_lexer": "ipython3",
   "version": "3.12.11"
  }
 },
 "nbformat": 4,
 "nbformat_minor": 5
}
